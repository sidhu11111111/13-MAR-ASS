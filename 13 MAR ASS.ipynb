{
 "cells": [
  {
   "cell_type": "markdown",
   "id": "96bbb0ca",
   "metadata": {},
   "source": [
    "#QNO.1 ANS"
   ]
  },
  {
   "cell_type": "code",
   "execution_count": 1,
   "id": "ad287bc5",
   "metadata": {},
   "outputs": [],
   "source": [
    "import numpy as np\n",
    "from scipy.stats import f\n",
    "\n",
    "def calculate_f_value(data1, data2):\n",
    "    n1 = len(data1)\n",
    "    n2 = len(data2)\n",
    "    var1 = np.var(data1,ddof=1)\n",
    "    var2 = np.var(data2,ddof=1)\n",
    "    \n",
    "    f_value = var1/var2\n",
    "    p_value= f.cdf(f_value,n1-1,n2-1)\n",
    "    \n",
    "    return f_value, p_value"
   ]
  },
  {
   "cell_type": "markdown",
   "id": "0e85e9e4",
   "metadata": {},
   "source": [
    "#QNO.2 ANS"
   ]
  },
  {
   "cell_type": "code",
   "execution_count": 2,
   "id": "2d57d236",
   "metadata": {},
   "outputs": [],
   "source": [
    "from scipy.stats import f\n",
    "\n",
    "def calculate_critical_f_value(alpha, dfn, dfd):\n",
    "    critical_value = f.ppf(1 - alpha/2, dfn, dfd)\n",
    "    return critical_value\n"
   ]
  },
  {
   "cell_type": "markdown",
   "id": "d9865492",
   "metadata": {},
   "source": [
    "#QNO.3 ANS"
   ]
  },
  {
   "cell_type": "code",
   "execution_count": 3,
   "id": "589babf6",
   "metadata": {},
   "outputs": [
    {
     "name": "stdout",
     "output_type": "stream",
     "text": [
      "F-value: 0.9068542633718678\n",
      "Degrees of freedom (numerator): 99\n",
      "Degrees of freedom (denominator): 99\n",
      "P-value: 0.31380481994964454\n"
     ]
    }
   ],
   "source": [
    "import numpy as np\n",
    "from scipy.stats import f\n",
    "\n",
    "def perform_f_test(sample1, sample2):\n",
    "    n1 = len(sample1)\n",
    "    n2 = len(sample2)\n",
    "    var1 = np.var(sample1, ddof=1)\n",
    "    var2 = np.var(sample2, ddof=1)\n",
    "    \n",
    "    f_value = var1 / var2\n",
    "    dfn = n1 - 1\n",
    "    dfd = n2 - 1\n",
    "    p_value = f.cdf(f_value, dfn, dfd)\n",
    "    \n",
    "    return f_value, dfn, dfd, p_value\n",
    "\n",
    "np.random.seed(42)\n",
    "sample1 = np.random.normal(loc=0, scale=2, size=100)\n",
    "sample2 = np.random.normal(loc=0, scale=2, size=100)\n",
    "\n",
    "f_value, dfn, dfd, p_value = perform_f_test(sample1, sample2)\n",
    "\n",
    "print(\"F-value:\", f_value)\n",
    "print(\"Degrees of freedom (numerator):\", dfn)\n",
    "print(\"Degrees of freedom (denominator):\", dfd)\n",
    "print(\"P-value:\", p_value)\n"
   ]
  },
  {
   "cell_type": "markdown",
   "id": "ef4496bf",
   "metadata": {},
   "source": [
    "#QNO.4 ANS"
   ]
  },
  {
   "cell_type": "code",
   "execution_count": 4,
   "id": "d24269c6",
   "metadata": {},
   "outputs": [
    {
     "name": "stdout",
     "output_type": "stream",
     "text": [
      "Fail to reject null hypothesis. Variances are not significantly different.\n"
     ]
    }
   ],
   "source": [
    "import numpy as np\n",
    "from scipy.stats import f\n",
    "\n",
    "def conduct_f_test(sample1, sample2, alpha):\n",
    "    n1 = len(sample1)\n",
    "    n2 = len(sample2)\n",
    "    var1 = np.var(sample1, ddof=1)\n",
    "    var2 = np.var(sample2, ddof=1)\n",
    "    \n",
    "    f_value = var1 / var2\n",
    "    dfn = n1 - 1\n",
    "    dfd = n2 - 1\n",
    "    p_value = f.cdf(f_value, dfn, dfd)\n",
    "    \n",
    "    if p_value < alpha/2 or p_value > 1 - alpha/2:\n",
    "        print(\"Reject null hypothesis. Variances are significantly different.\")\n",
    "    else:\n",
    "        print(\"Fail to reject null hypothesis. Variances are not significantly different.\")\n",
    "\n",
    "sample1 = np.random.normal(loc=0, scale=np.sqrt(10), size=12)\n",
    "sample2 = np.random.normal(loc=0, scale=np.sqrt(15), size=12)\n",
    "\n",
    "alpha = 0.05\n",
    "\n",
    "conduct_f_test(sample1, sample2, alpha)\n"
   ]
  },
  {
   "cell_type": "markdown",
   "id": "84e1078e",
   "metadata": {},
   "source": [
    "#QNO.5 ANS"
   ]
  },
  {
   "cell_type": "code",
   "execution_count": 5,
   "id": "52c1b82a",
   "metadata": {},
   "outputs": [
    {
     "name": "stdout",
     "output_type": "stream",
     "text": [
      "Fail to reject null hypothesis. The claim is justified.\n"
     ]
    }
   ],
   "source": [
    "from scipy.stats import f\n",
    "\n",
    "def conduct_f_test(claim_variance, sample_variance, sample_size, alpha):\n",
    "    dfn = sample_size - 1\n",
    "    dfd = sample_size - 1\n",
    "    \n",
    "    f_value = sample_variance / claim_variance\n",
    "    p_value = f.cdf(f_value, dfn, dfd)\n",
    "    \n",
    "    if p_value < alpha:\n",
    "        print(\"Reject null hypothesis. The claim is not justified.\")\n",
    "    else:\n",
    "        print(\"Fail to reject null hypothesis. The claim is justified.\")\n",
    "\n",
    "claim_variance = 0.005\n",
    "\n",
    "sample_variance = 0.006\n",
    "sample_size = 25\n",
    "alpha = 0.01\n",
    "\n",
    "conduct_f_test(claim_variance, sample_variance, sample_size, alpha)\n"
   ]
  },
  {
   "cell_type": "markdown",
   "id": "8809037f",
   "metadata": {},
   "source": [
    "#QNO.6 ANS"
   ]
  },
  {
   "cell_type": "code",
   "execution_count": 6,
   "id": "43f6b759",
   "metadata": {},
   "outputs": [],
   "source": [
    "from scipy.stats import f\n",
    "\n",
    "def calculate_f_distribution_mean_variance(dfn, dfd):\n",
    "    mean = dfd / (dfd - 2)\n",
    "    variance = (2 * (dfd**2) * (dfn + dfd - 2)) / (dfn * (dfd - 2)**2 * (dfd - 4))\n",
    "    return mean, variance\n"
   ]
  },
  {
   "cell_type": "markdown",
   "id": "5668c809",
   "metadata": {},
   "source": [
    "#QNO.7 ANS"
   ]
  },
  {
   "cell_type": "code",
   "execution_count": 7,
   "id": "09640ce2",
   "metadata": {},
   "outputs": [
    {
     "name": "stdout",
     "output_type": "stream",
     "text": [
      "Fail to reject null hypothesis. Variances are not significantly different.\n"
     ]
    }
   ],
   "source": [
    "import numpy as np\n",
    "from scipy.stats import f\n",
    "\n",
    "def conduct_f_test(sample1, sample2, alpha):\n",
    "    n1 = len(sample1)\n",
    "    n2 = len(sample2)\n",
    "    var1 = np.var(sample1, ddof=1)\n",
    "    var2 = np.var(sample2, ddof=1)\n",
    "    \n",
    "    f_value = var1 / var2\n",
    "    dfn = n1 - 1\n",
    "    dfd = n2 - 1\n",
    "    p_value = f.cdf(f_value, dfn, dfd)\n",
    "    \n",
    "    if p_value < alpha:\n",
    "        print(\"Reject null hypothesis. Variances are significantly different.\")\n",
    "    else:\n",
    "        print(\"Fail to reject null hypothesis. Variances are not significantly different.\")\n",
    "\n",
    "sample1 = np.random.normal(loc=0, scale=np.sqrt(25), size=10)\n",
    "sample2 = np.random.normal(loc=0, scale=np.sqrt(20), size=15)\n",
    "\n",
    "alpha = 0.10\n",
    "\n",
    "conduct_f_test(sample1, sample2, alpha)\n"
   ]
  },
  {
   "cell_type": "markdown",
   "id": "51a8c265",
   "metadata": {},
   "source": [
    "#QNO.8 ANS"
   ]
  },
  {
   "cell_type": "code",
   "execution_count": 11,
   "id": "f29e8f10",
   "metadata": {},
   "outputs": [
    {
     "name": "stdout",
     "output_type": "stream",
     "text": [
      "Fail to reject null hypothesis. Variances are not significantly different.\n"
     ]
    }
   ],
   "source": [
    "import numpy as np\n",
    "from scipy.stats import f\n",
    "\n",
    "def conduct_f_test(sample1, sample2, alpha):\n",
    "    n1 = len(sample1)\n",
    "    n2 = len(sample2)\n",
    "    var1 = np.var(sample1, ddof=1)\n",
    "    var2 = np.var(sample2, ddof=1)\n",
    "    \n",
    "    f_value = var1 / var2\n",
    "    dfn = n1 - 1\n",
    "    dfd = n2 - 1\n",
    "    p_value = f.cdf(f_value, dfn, dfd)\n",
    "    \n",
    "    if p_value < alpha:\n",
    "        print(\"Reject null hypothesis. Variances are significantly different.\")\n",
    "    else:\n",
    "        print(\"Fail to reject null hypothesis. Variances are not significantly different.\")\n",
    "\n",
    "sample1 = np.array([24, 25, 28, 23, 22, 20, 27])\n",
    "sample2 = np.array([31, 33, 35, 30, 32, 36])\n",
    "\n",
    "alpha = 0.05\n",
    "\n",
    "conduct_f_test(sample1, sample2, alpha)"
   ]
  },
  {
   "cell_type": "markdown",
   "id": "92468f52",
   "metadata": {},
   "source": [
    "#QNO.9 ANS"
   ]
  },
  {
   "cell_type": "code",
   "execution_count": 12,
   "id": "0163bcae",
   "metadata": {},
   "outputs": [
    {
     "name": "stdout",
     "output_type": "stream",
     "text": [
      "Fail to reject null hypothesis. Variances are not significantly different.\n"
     ]
    }
   ],
   "source": [
    "import numpy as np\n",
    "from scipy.stats import f\n",
    "\n",
    "def conduct_f_test(sample1, sample2, alpha):\n",
    "    n1 = len(sample1)\n",
    "    n2 = len(sample2)\n",
    "    var1 = np.var(sample1, ddof=1)\n",
    "    var2 = np.var(sample2, ddof=1)\n",
    "    \n",
    "    f_value = var1 / var2\n",
    "    dfn = n1 - 1\n",
    "    dfd = n2 - 1\n",
    "    p_value = f.cdf(f_value, dfn, dfd)\n",
    "    \n",
    "    if p_value < alpha:\n",
    "        print(\"Reject null hypothesis. Variances are significantly different.\")\n",
    "    else:\n",
    "        print(\"Fail to reject null hypothesis. Variances are not significantly different.\")\n",
    "\n",
    "sample1 = np.array([80, 85, 90, 92, 87, 83])\n",
    "sample2 = np.array([75, 78, 82, 79, 81, 84])\n",
    "\n",
    "alpha = 0.01\n",
    "\n",
    "conduct_f_test(sample1, sample2, alpha)\n"
   ]
  },
  {
   "cell_type": "code",
   "execution_count": null,
   "id": "b9f1c662",
   "metadata": {},
   "outputs": [],
   "source": []
  }
 ],
 "metadata": {
  "kernelspec": {
   "display_name": "Python 3 (ipykernel)",
   "language": "python",
   "name": "python3"
  },
  "language_info": {
   "codemirror_mode": {
    "name": "ipython",
    "version": 3
   },
   "file_extension": ".py",
   "mimetype": "text/x-python",
   "name": "python",
   "nbconvert_exporter": "python",
   "pygments_lexer": "ipython3",
   "version": "3.10.9"
  }
 },
 "nbformat": 4,
 "nbformat_minor": 5
}
